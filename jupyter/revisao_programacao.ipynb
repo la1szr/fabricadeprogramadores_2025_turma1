{
 "cells": [
  {
   "cell_type": "markdown",
   "metadata": {},
   "source": [
    "# Revisão de Programação em Python\n",
    "## Alunos da Rede Pública Municipal de Santana de Parnaíba inscritos na Fábrica de Programadores!\n",
    "\n",
    "Neste notebook, vamos revisar os conceitos aprendidos:\n",
    "- Variáveis e tipos básicos 😁\n",
    "- Listas 📋\n",
    "- Estruturas condicionais (if, elif, else) ⬅️➡️\n",
    "- Casting 🫠\n",
    "- Funções 📐\n",
    "- Escopo (global, local) 🌍🏠\n",
    "- Composição ➗\n",
    "- Loops (while, for) 🌀\n",
    "- Lógica básica de programação 🧠\n",
    "\n",
    "Responda todos os exercícios utilizando composição!"
   ]
  },
  {
   "cell_type": "markdown",
   "metadata": {},
   "source": [
    "## Exercício 1: Variáveis e Tipos Básicos"
   ]
  },
  {
   "cell_type": "code",
   "execution_count": 15,
   "metadata": {},
   "outputs": [
    {
     "name": "stdout",
     "output_type": "stream",
     "text": [
      "nome: Lais\n",
      "idade: 16\n",
      "altura: 1.58 metros\n",
      "gosta de programar? False\n"
     ]
    }
   ],
   "source": [
    "# 1. Declare variáveis para armazenar:\n",
    "#    - Seu nome (string)\n",
    "#    - Sua idade (int)\n",
    "#    - Sua altura em metros (float)\n",
    "#    - Se você gosta de programar (True, False)\n",
    "#    - Depois, imprima cada uma dessas variáveis\n",
    "\n",
    "# Seu codigo aqui\n",
    "nome = \"Lais\"\n",
    "idade = 16\n",
    "altura_m = 1.58\n",
    "gosta_de_programar = False\n",
    "print(\"nome:\", nome)\n",
    "print(\"idade:\", idade)\n",
    "print(\"altura:\",altura, \"metros\")\n",
    "print(\"gosta de programar?\", gosta_de_programar)\n",
    "\n"
   ]
  },
  {
   "cell_type": "markdown",
   "metadata": {},
   "source": [
    "## Exercício 2: Operações com Listas"
   ]
  },
  {
   "cell_type": "code",
   "execution_count": 12,
   "metadata": {},
   "outputs": [
    {
     "name": "stdout",
     "output_type": "stream",
     "text": [
      "pera\n"
     ]
    }
   ],
   "source": [
    "# 2. Declare uma lista chamada 'frutas' com 5 frutas diferentes\n",
    "#    - Adicione uma nova fruta no final da lista\n",
    "#    - Remova a segunda fruta da lista\n",
    "#    - Imprima a lista resultante\n",
    "#    - Imprima apenas a terceira fruta da lista\n",
    "\n",
    "# Seu código aqui\n",
    "frutas = [\"amora\", \"banana\", \"uva\", \"pera\", \"morango\"]\n",
    "frutas.append(\"maça\")\n",
    "del frutas [1]\n",
    "print(frutas[2])\n"
   ]
  },
  {
   "cell_type": "markdown",
   "metadata": {},
   "source": [
    "## Exercício 3: Funções, Escopo e Tipos de Dados"
   ]
  },
  {
   "cell_type": "code",
   "execution_count": 19,
   "metadata": {},
   "outputs": [
    {
     "name": "stdout",
     "output_type": "stream",
     "text": [
      "16\n"
     ]
    }
   ],
   "source": [
    "# 3. Defina uma função chamada calcular_dobro que recebe um número inteiro como parâmetro.\n",
    "#    - Dentro da função, calcule o dobro desse número e atribua o resultado a uma variável local chamada resultado_dobro.\n",
    "#    - A função deve retornar resultado_dobro.\n",
    "#    - Fora da função, invoque a função com o número 7 e atribua o valor retornado a uma variável global chamada meu_dobro.\n",
    "#    - Imprima o valor de meu_dobro.\n",
    "\n",
    "# Seu código aqui\n",
    "def calcular_dobro(numero):\n",
    "    resultado_dobro = numero * 2\n",
    "    return resultado_dobro\n",
    "\n",
    "dobro_do_numero = calcular_dobro(8)\n",
    "print(dobro_do_numero)\n"
   ]
  },
  {
   "cell_type": "markdown",
   "metadata": {},
   "source": [
    "## Exercício 4: Estruturas Condicionais (if, else)"
   ]
  },
  {
   "cell_type": "code",
   "execution_count": 2,
   "metadata": {},
   "outputs": [
    {
     "name": "stdout",
     "output_type": "stream",
     "text": [
      "o numero e zero.\n"
     ]
    }
   ],
   "source": [
    "# 4. Crie um programa que verifica se um número é positivo, negativo ou zero\n",
    "#    - Peça para o usuário digitar um número\n",
    "#    - Use if, elif e else para verificar o número\n",
    "#    - Imprima o resultado\n",
    "\n",
    "# Seu código aqui\n",
    "numero = float(input(\"digite um numero:\"))\n",
    "\n",
    "if numero > 0 :\n",
    "    print(\"o numero e positivo.\")\n",
    "elif numero < 0 : \n",
    "    print(\"o numero e negativo.\")\n",
    "else:\n",
    "    print(\"o numero e zero.\")"
   ]
  },
  {
   "cell_type": "markdown",
   "metadata": {},
   "source": [
    "## Exercício 5: Loop While"
   ]
  },
  {
   "cell_type": "code",
   "execution_count": 3,
   "metadata": {},
   "outputs": [
    {
     "name": "stdout",
     "output_type": "stream",
     "text": [
      "5\n",
      "4\n",
      "3\n",
      "2\n",
      "1\n",
      "fogo!\n"
     ]
    }
   ],
   "source": [
    "# 5. Crie um contador regressivo de 5 até 1 usando while\n",
    "#    - A cada iteração, imprima o número atual\n",
    "#    - Quando chegar a 1, imprima \"Fogo!\"\n",
    "\n",
    "# Seu código aqui\n",
    "contador = 5\n",
    "while contador >= 1:\n",
    "    print(contador)\n",
    "    if contador == 1:\n",
    "        print(\"fogo!\")\n",
    "    contador -= 1"
   ]
  },
  {
   "cell_type": "markdown",
   "metadata": {},
   "source": [
    "## Exercício 6: Loop For"
   ]
  },
  {
   "cell_type": "code",
   "execution_count": 15,
   "metadata": {},
   "outputs": [
    {
     "name": "stdout",
     "output_type": "stream",
     "text": [
      "a media das notas e: 6.2\n"
     ]
    }
   ],
   "source": [
    "# 6. Crie um programa que calcula a média de 5 notas usando for\n",
    "#    - Peça para o usuário digitar 5 notas\n",
    "#    - Use um loop for para somar as notas\n",
    "#    - Calcule e imprima a média\n",
    "\n",
    "# Seu código aqui\n",
    "soma_notas = 0\n",
    "for i in range(5):\n",
    "     nota = float(input( f\"digite a nota {i+1}: \"))\n",
    "     soma_notas += nota\n",
    "    \n",
    "media = soma_notas / 5\n",
    "print(f\"a media das notas e: {media}\")\n",
    "    "
   ]
  },
  {
   "cell_type": "markdown",
   "metadata": {},
   "source": [
    "## Exercício 7: Escopo Global e Local"
   ]
  },
  {
   "cell_type": "code",
   "execution_count": 4,
   "metadata": {},
   "outputs": [],
   "source": [
    "# 7. Defina uma variável global chamada saldo_inicial com o valor 1000.50 (tipo float).\n",
    "#    - Crie uma função chamada depositar que recebe um valor_deposito (float) como parâmetro.\n",
    "#    - Dentro da função depositar, adicione o valor_deposito ao saldo_inicial. Lembre-se de usar a palavra-chave global para modificar a variável global.\n",
    "#    - Fora da função, chame depositar com o valor 250.75.\n",
    "#    - Após a chamada da função, imprima o valor atualizado de saldo_inicial.\n",
    "\n",
    "# Seu código aqui\n",
    "saldo_inicial = 1000.50\n",
    "\n",
    "def depositar(valor_deposito):\n",
    "    global saldo_inicial \n",
    "    saldo_inicial += valor_deposito\n",
    "    depositar(250.75)\n",
    "    print(saldo_inicial)\n",
    "    "
   ]
  },
  {
   "cell_type": "markdown",
   "metadata": {},
   "source": [
    "## Exercício 8: Listas e Loops"
   ]
  },
  {
   "cell_type": "code",
   "execution_count": 5,
   "metadata": {},
   "outputs": [
    {
     "name": "stdout",
     "output_type": "stream",
     "text": [
      "numeros pares:\n",
      "2\n",
      "lista de impares:\n",
      "[1]\n",
      "lista de impares:\n",
      "[1, 3]\n",
      "lista de impares:\n",
      "[1, 3, 5]\n",
      "lista de impares:\n",
      "[1, 3, 5, 7]\n",
      "lista de impares:\n",
      "[1, 3, 5, 7, 9]\n",
      "4\n",
      "lista de impares:\n",
      "[1]\n",
      "lista de impares:\n",
      "[1, 3]\n",
      "lista de impares:\n",
      "[1, 3, 5]\n",
      "lista de impares:\n",
      "[1, 3, 5, 7]\n",
      "lista de impares:\n",
      "[1, 3, 5, 7, 9]\n",
      "6\n",
      "lista de impares:\n",
      "[1]\n",
      "lista de impares:\n",
      "[1, 3]\n",
      "lista de impares:\n",
      "[1, 3, 5]\n",
      "lista de impares:\n",
      "[1, 3, 5, 7]\n",
      "lista de impares:\n",
      "[1, 3, 5, 7, 9]\n",
      "8\n",
      "lista de impares:\n",
      "[1]\n",
      "lista de impares:\n",
      "[1, 3]\n",
      "lista de impares:\n",
      "[1, 3, 5]\n",
      "lista de impares:\n",
      "[1, 3, 5, 7]\n",
      "lista de impares:\n",
      "[1, 3, 5, 7, 9]\n",
      "10\n",
      "lista de impares:\n",
      "[1]\n",
      "lista de impares:\n",
      "[1, 3]\n",
      "lista de impares:\n",
      "[1, 3, 5]\n",
      "lista de impares:\n",
      "[1, 3, 5, 7]\n",
      "lista de impares:\n",
      "[1, 3, 5, 7, 9]\n"
     ]
    }
   ],
   "source": [
    "# 8. Crie uma lista de números de 1 a 10\n",
    "#    - Use um loop for para imprimir apenas os números pares\n",
    "#    - Depois, crie uma nova lista com os números ímpares\n",
    "#    - Imprima a lista de ímpares\n",
    "\n",
    "# Seu código aqu\n",
    "numeros = list(range(1, 11))\n",
    "print(\"numeros pares:\")\n",
    "for num in numeros:\n",
    "    if num % 2 == 0:\n",
    "        print(num)\n",
    "        impares = []\n",
    "        for num in numeros:\n",
    "            if num %2 != 0:\n",
    "                impares.append(num)\n",
    "                print(\"lista de impares:\")\n",
    "                print(impares)"
   ]
  },
  {
   "cell_type": "markdown",
   "metadata": {},
   "source": [
    "## Exercício 9: Jogo de Adivinhação"
   ]
  },
  {
   "cell_type": "code",
   "execution_count": 3,
   "metadata": {},
   "outputs": [
    {
     "name": "stdout",
     "output_type": "stream",
     "text": [
      "play no jogo de adivinhação\n",
      "tente adivinhar o numero secreto entre 1 e 10, voce tem 3 tentativas\n",
      "o numero secreto é menor.\n",
      "o numero secreto é menor.\n",
      "parabens\n"
     ]
    }
   ],
   "source": [
    "# 9. Crie um jogo de adivinhação onde:\n",
    "#    - O computador escolhe um número aleatório entre 1 e 10\n",
    "#    - O jogador tem 3 tentativas para adivinhar o número\n",
    "#    - A cada tentativa, diga se o palpite é maior ou menor que o número secreto\n",
    "#    - Se acertar, imprima \"Parabéns!\" e encerre o jogo\n",
    "#    - Se errar todas as tentativas, imprima o número correto\n",
    "\n",
    "# Seu código aqui\n",
    "import random\n",
    "numero_secreto = random.randint(1, 10)\n",
    "print(\"play no jogo de adivinhação\")\n",
    "print(\"tente adivinhar o numero secreto entre 1 e 10, voce tem 3 tentativas\")\n",
    "\n",
    "for tentativa in range (1, 4):\n",
    "    \n",
    "        palpite = int(input(f\"tentativa{tentativa}:digite sua tentativa(entre1 e 10): \"))\n",
    "\n",
    "        if palpite == numero_secreto:\n",
    "            print(\"parabens\")\n",
    "            break\n",
    "        elif palpite > numero_secreto:\n",
    "            print(\"o numero secreto é menor.\")\n",
    "        else:\n",
    "            print(\"o numero secreto é maior\")\n",
    "else:\n",
    "    print(f\"voce não acertou. o numero correto era {numero_secreto}.\")\n",
    "            "
   ]
  },
  {
   "cell_type": "markdown",
   "metadata": {},
   "source": [
    "## Exercício 10: Desafio Final"
   ]
  },
  {
   "cell_type": "code",
   "execution_count": 7,
   "metadata": {},
   "outputs": [
    {
     "name": "stdout",
     "output_type": "stream",
     "text": [
      "nome: Lais, idade: 16, peso: 50.0kgs, altura: 1.58m\n"
     ]
    },
    {
     "ename": "NameError",
     "evalue": "name 'f' is not defined",
     "output_type": "error",
     "traceback": [
      "\u001b[31m---------------------------------------------------------------------------\u001b[39m",
      "\u001b[31mNameError\u001b[39m                                 Traceback (most recent call last)",
      "\u001b[36mCell\u001b[39m\u001b[36m \u001b[39m\u001b[32mIn[7]\u001b[39m\u001b[32m, line 45\u001b[39m\n\u001b[32m     43\u001b[39m classificação = \u001b[33m\"\u001b[39m\u001b[33mobesidade muito severa (grau III)\u001b[39m\u001b[33m\"\u001b[39m \n\u001b[32m     44\u001b[39m \u001b[38;5;28mprint\u001b[39m(\u001b[33mf\u001b[39m\u001b[33m\"\u001b[39m\u001b[33mnome: \u001b[39m\u001b[38;5;132;01m{\u001b[39;00mnome\u001b[38;5;132;01m}\u001b[39;00m\u001b[33m, idade: \u001b[39m\u001b[38;5;132;01m{\u001b[39;00midade\u001b[38;5;132;01m}\u001b[39;00m\u001b[33m, peso: \u001b[39m\u001b[38;5;132;01m{\u001b[39;00mpeso\u001b[38;5;132;01m}\u001b[39;00m\u001b[33mkgs, altura: \u001b[39m\u001b[38;5;132;01m{\u001b[39;00maltura\u001b[38;5;132;01m}\u001b[39;00m\u001b[33mm\u001b[39m\u001b[33m\"\u001b[39m)   \n\u001b[32m---> \u001b[39m\u001b[32m45\u001b[39m \u001b[38;5;28mprint\u001b[39m(\u001b[43mf\u001b[49m(\u001b[33m\"\u001b[39m\u001b[33mimc: \u001b[39m\u001b[38;5;132;01m{imc:.2f}\u001b[39;00m\u001b[33m, classificação: \u001b[39m\u001b[38;5;132;01m{classificação}\u001b[39;00m\u001b[33m\"\u001b[39m))\n\u001b[32m     46\u001b[39m \u001b[38;5;28mprint\u001b[39m(\u001b[33mf\u001b[39m\u001b[33m\"\u001b[39m\u001b[33mnome:\u001b[39m\u001b[38;5;132;01m{\u001b[39;00mindividuo[nome]\u001b[38;5;132;01m}\u001b[39;00m\u001b[33m, imc\u001b[39m\u001b[38;5;132;01m{\u001b[39;00mindividuo[\u001b[33m'\u001b[39m\u001b[33mimc\u001b[39m\u001b[33m'\u001b[39m]\u001b[38;5;132;01m:\u001b[39;00m\u001b[33m.2f\u001b[39m\u001b[38;5;132;01m}\u001b[39;00m\u001b[33m, classificação\u001b[39m\u001b[38;5;132;01m{\u001b[39;00mindividuo[\u001b[33m'\u001b[39m\u001b[33mclassificação\u001b[39m\u001b[33m'\u001b[39m]\u001b[38;5;132;01m}\u001b[39;00m\u001b[33m\"\u001b[39m)\n",
      "\u001b[31mNameError\u001b[39m: name 'f' is not defined"
     ]
    }
   ],
   "source": [
    "# 10. Crie um programa que:\n",
    "#    - Pede para o usuário digitar o seu próprio peso em Kgs.\n",
    "#    - Depois, pede ao usuário que digite sua altura em metros.\n",
    "#    - Em terceiro, pede ao usuário que digite seu nome e idade.\n",
    "#    - Adiciona os dados digitados ao final de uma lista (utilizando a função .append()).\n",
    "#    - Calcule o índice de massa corpórea (IMC) do indivíduo de acordo com a fórmula do IMC pesquisada.    \n",
    "#    - Após calcular, registre: Classificação do IMC de acordo com a OMS:\n",
    "#    - < 16         Magreza grave (grau III)\n",
    "#    - 16 a 16,9    Magreza moderada (grau II)\n",
    "#    - 17 a 18,4    Magreza leve (grau I)\n",
    "#    - 18,5 a 24,9  Eutrofia (estado nutricional adequado)\n",
    "#    - 25 a 29,9    Pré-obesidade\n",
    "#    - 30 a 34,9    Obesidade moderada (grau I)\n",
    "#    - 35 a 39,9    Obesidade severa (grau II)\n",
    "#    - >= 40        Obesidade muito severa (grau III)\n",
    "#    - Finalmente, em ordem alfabética (utilizando a função .sort()), exiba todos os itens da lista ao lado de seus dados, seu IMC e sua respectiva classificação.\n",
    "\n",
    "# Seu código aqui\n",
    "while True:\n",
    "    peso = float(input(\"digite seu peso em kgs \"))\n",
    "    if peso == 0:\n",
    "        break\n",
    "    altura = float(input(\"digite sua altura em metros: \"))\n",
    "    nome = input(\"digite seu nome: \")\n",
    "    idade = int(input(\"digite sua idade: \"))\n",
    "    \n",
    "    imc = peso/ (altura ** 2)\n",
    "    if imc < 16:\n",
    "        classificação = \"magreza grave (grau III)\"\n",
    "    elif 16 <= imc <= 16.9:\n",
    "        classificação = \"magreza moderada (grau II)\"\n",
    "    elif 17 <= imc < 18.5:\n",
    "        classificação = \"magreza leve (grau I)\"\n",
    "    elif 18.5 <= imc < 25:\n",
    "        classificação = \"eutrofia (estado nutricional adequado)\"\n",
    "    elif 25 <= imc < 30:\n",
    "        classificação = \"pré obesidade\" \n",
    "    elif 30 <= imc < 35:\n",
    "        classificação = \"obesidade moderada(grau I)\"\n",
    "    elif 35 <= imc < 40:\n",
    "        classificação = \"obesidade severa(grauII)\"\n",
    "    else: imc >= 40 \n",
    "    classificação = \"obesidade muito severa (grau III)\" \n",
    "    print(f\"nome: {nome}, idade: {idade}, peso: {peso}kgs, altura: {altura}m\")   \n",
    "    print(f(\"imc: {imc:.2f}, classificação: {classificação}\"))\n",
    "    print(f\"nome:{individuo[nome]}, imc{individuo['imc']:.2f}, classificação{individuo['classificação']}\")\n",
    "        \n",
    "        \n",
    "        \n",
    "        \n",
    "        \n",
    "        \n",
    "        \n",
    "        \n",
    "        \n",
    "        \n",
    "        \n",
    "        \n",
    "        \n",
    "        \n",
    "        \n",
    "        \n",
    "        \n",
    "        \n",
    "        \n",
    "        \n",
    "        \n",
    "        \n",
    "        \n",
    "        \n",
    "        \n",
    "        \n",
    "        \n",
    "        \n",
    "        \n",
    "        \n",
    "    \n",
    "    \n",
    "    \n",
    "    \n",
    "    \n",
    "    \n",
    "    \n",
    "    \n",
    "    \n",
    "    \n",
    "    \n",
    "    \n",
    "    \n",
    "    \n",
    "    \n",
    "    \n",
    "    \n",
    "    \n",
    "    \n",
    "    \n",
    "    \n",
    "    "
   ]
  },
  {
   "cell_type": "markdown",
   "metadata": {},
   "source": [
    "## Parabéns por completar os exercícios! 🥳\n",
    "### Continue praticando e explorando os conceitos de programação."
   ]
  }
 ],
 "metadata": {
  "kernelspec": {
   "display_name": "Python 3",
   "language": "python",
   "name": "python3"
  },
  "language_info": {
   "codemirror_mode": {
    "name": "ipython",
    "version": 3
   },
   "file_extension": ".py",
   "mimetype": "text/x-python",
   "name": "python",
   "nbconvert_exporter": "python",
   "pygments_lexer": "ipython3",
   "version": "3.13.2"
  }
 },
 "nbformat": 4,
 "nbformat_minor": 4
}
